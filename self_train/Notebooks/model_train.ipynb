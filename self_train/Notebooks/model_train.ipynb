{
 "cells": [
  {
   "cell_type": "code",
   "execution_count": 14,
   "metadata": {},
   "outputs": [],
   "source": [
    "import cv2 as cv\n",
    "import os\n",
    "\n",
    "name = 'gokul'"
   ]
  },
  {
   "cell_type": "code",
   "execution_count": 15,
   "metadata": {},
   "outputs": [],
   "source": [
    "# Path of the file containing the images\n",
    "PATH = os.path.join('training_images', name)"
   ]
  },
  {
   "cell_type": "code",
   "execution_count": 16,
   "metadata": {},
   "outputs": [],
   "source": [
    "# \"\"\"\n",
    "# Model Architecture\n",
    "# \"\"\"\n",
    "\n",
    "# # Importing the Keras libraries and packages\n",
    "# from keras.models import Sequential\n",
    "# from keras.layers import Convolution2D\n",
    "# from keras.layers import MaxPooling2D\n",
    "# from keras.layers import Flatten\n",
    "# from keras.layers import Dense , Dropout\n",
    "# import os\n",
    "# os.environ[\"CUDA_VISIBLE_DEVICES\"] = \"0\"\n",
    "# sz = 128\n",
    "# # Step 1 - Building the CNN\n",
    "\n",
    "# # Initializing the CNN\n",
    "# classifier = Sequential()\n",
    "\n",
    "# # First convolution layer and pooling\n",
    "# classifier.add(Convolution2D(32, (3, 3), input_shape=(sz, sz, 1), activation='relu'))\n",
    "# classifier.add(MaxPooling2D(pool_size=(2, 2)))\n",
    "# # Second convolution layer and pooling\n",
    "# classifier.add(Convolution2D(32, (3, 3), activation='relu'))\n",
    "# # input_shape is going to be the pooled feature maps from the previous convolution layer\n",
    "# classifier.add(MaxPooling2D(pool_size=(2, 2)))\n",
    "# #classifier.add(Convolution2D(32, (3, 3), activation='relu'))\n",
    "# # input_shape is going to be the pooled feature maps from the previous convolution layer\n",
    "# #classifier.add(MaxPooling2D(pool_size=(2, 2)))\n",
    "\n",
    "# # Flattening the layers\n",
    "# classifier.add(Flatten())\n",
    "\n",
    "# # Adding a fully connected layer\n",
    "# classifier.add(Dense(units=128, activation='relu'))\n",
    "# classifier.add(Dropout(0.40))\n",
    "# classifier.add(Dense(units=96, activation='relu'))\n",
    "# classifier.add(Dropout(0.40))\n",
    "# classifier.add(Dense(units=64, activation='relu'))\n",
    "# classifier.add(Dense(units=26, activation='softmax')) # softmax for more than 2"
   ]
  },
  {
   "cell_type": "code",
   "execution_count": 17,
   "metadata": {},
   "outputs": [],
   "source": [
    "# classifier"
   ]
  },
  {
   "cell_type": "code",
   "execution_count": 18,
   "metadata": {},
   "outputs": [
    {
     "data": {
      "text/plain": [
       "'f:\\\\Works\\\\Sign language\\\\Sign-language\\\\self_train'"
      ]
     },
     "execution_count": 18,
     "metadata": {},
     "output_type": "execute_result"
    }
   ],
   "source": [
    "pwd"
   ]
  },
  {
   "cell_type": "code",
   "execution_count": 19,
   "metadata": {},
   "outputs": [
    {
     "name": "stdout",
     "output_type": "stream",
     "text": [
      "f:\\Works\\Sign language\\Sign-language\n"
     ]
    }
   ],
   "source": [
    "cd .."
   ]
  },
  {
   "cell_type": "code",
   "execution_count": 20,
   "metadata": {},
   "outputs": [],
   "source": [
    "# # Importing the model and setting all the current layers as non-trainable\n",
    "\n",
    "# from keras.models import model_from_json\n",
    "\n",
    "# final_model = ''\n",
    "\n",
    "# with open(\"model-bw-2-json.json\") as json_file:\n",
    "#     final_model = model_from_json(json_file.read())\n",
    "#     final_model.load_weights(\"model-bw-2.h5\")\n",
    "\n",
    "# i=0\n",
    "# for layer in final_model.layers:\n",
    "#     print(layer)\n",
    "#     # i+=1\n",
    "#     # if i != 11:\n",
    "#     layer.trainable = False\n",
    "#     # else:\n",
    "#     #     break"
   ]
  },
  {
   "cell_type": "code",
   "execution_count": 21,
   "metadata": {},
   "outputs": [],
   "source": [
    "# \"\"\"\n",
    "# \"res_net.output\" represents the final layer of res_net. We will add additional layers to this layer inorder to add for our situation.\n",
    "# \"\"\"\n",
    "# import tensorflow as tf\n",
    "# import keras\n",
    "# from keras.layers import Dense, GlobalMaxPooling2D, Dropout\n",
    "\n",
    "# # Here we will be adding a maxPooling layer\n",
    "\n",
    "# # add_layer1 = MaxPooling2D(pool_size=(2, 2))\n",
    "# add_layer1 = keras.Sequential([\n",
    "#                                 # Adding a fully connected layer\n",
    "#                                 Dense(units=128, activation='relu'),\n",
    "#                                 Dropout(0.40),\n",
    "#                                 Dense(units=96, activation='relu'),\n",
    "#                                 Dropout(0.40),\n",
    "#                                 Dense(units=64, activation='relu'),\n",
    "#                                 Dense(units=26, activation='softmax') # softmax for more than 2\n",
    "#                             ])\n",
    "\n",
    "# # add_layer3 = MaxPooling2D(pool_size=(2, 2))\n",
    "\n",
    "# # Adding the final dense layer (only 1 as it is a binary class)\n",
    "# add_layer2 = Dense(26, activation='sigmoid')\n",
    "\n",
    "# # Compiling the model\n",
    "# final_model = keras.Sequential([final_model, \n",
    "#                                 # add_layer1,\n",
    "#                                 add_layer1])\n",
    "\n",
    "# # Displaying the model summary\n",
    "# final_model.summary()"
   ]
  },
  {
   "cell_type": "code",
   "execution_count": 22,
   "metadata": {},
   "outputs": [],
   "source": [
    "# import tensorflow as tf\n",
    "# # tf.keras.losses.BinaryCrossentropy\n",
    "\n",
    "# final_model.compile(\n",
    "#     optimizer='adam',\n",
    "#     loss = 'categorical_crossentropy',\n",
    "#     metrics=['accuracy']\n",
    "# )"
   ]
  },
  {
   "cell_type": "code",
   "execution_count": 23,
   "metadata": {},
   "outputs": [
    {
     "name": "stdout",
     "output_type": "stream",
     "text": [
      "[224, 224, 3]\n"
     ]
    }
   ],
   "source": [
    "from keras.applications.mobilenet import MobileNet\n",
    "# Here we load the ResNet model with the trained weights of imagenet but not includeing the final layer as well will add additional layers\n",
    "# over here to train for our application\n",
    "\n",
    "img_size = [224, 224]\n",
    "img_size = img_size + [3]\n",
    "print(img_size)\n",
    "\n",
    "res_net_base = MobileNet(input_shape= img_size, weights='imagenet', include_top=False)\n",
    "# Supplying weights=\"imagenet\" indicates that we want to use the pre-trained ImageNet weights for the respective model.\n",
    "\n",
    "# Setting all the current layers as non-trainable\n",
    "for layer in res_net_base.layers:\n",
    "    layer.trainable = False"
   ]
  },
  {
   "cell_type": "code",
   "execution_count": 24,
   "metadata": {},
   "outputs": [
    {
     "name": "stdout",
     "output_type": "stream",
     "text": [
      "Model: \"sequential_1\"\n",
      "_________________________________________________________________\n",
      " Layer (type)                Output Shape              Param #   \n",
      "=================================================================\n",
      " mobilenet_1.00_224 (Functio  (None, 7, 7, 1024)       3228864   \n",
      " nal)                                                            \n",
      "                                                                 \n",
      " flatten_1 (Flatten)         (None, 50176)             0         \n",
      "                                                                 \n",
      " dense_3 (Dense)             (None, 96)                4816992   \n",
      "                                                                 \n",
      " dropout_1 (Dropout)         (None, 96)                0         \n",
      "                                                                 \n",
      " dense_4 (Dense)             (None, 64)                6208      \n",
      "                                                                 \n",
      " dense_5 (Dense)             (None, 26)                1690      \n",
      "                                                                 \n",
      "=================================================================\n",
      "Total params: 8,053,754\n",
      "Trainable params: 4,824,890\n",
      "Non-trainable params: 3,228,864\n",
      "_________________________________________________________________\n"
     ]
    }
   ],
   "source": [
    "\"\"\"\n",
    "\"res_net.output\" represents the final layer of res_net. We will add additional layers to this layer inorder to add for our situation.\n",
    "\"\"\"\n",
    "import keras\n",
    "from keras.layers import Dense, Dropout, GlobalAveragePooling2D, Flatten\n",
    "\n",
    "final_model = keras.Sequential(res_net_base)\n",
    "final_model.add(Flatten())\n",
    "\n",
    "# Here we will be adding a maxPooling layer)\n",
    "final_model.add(Dense(96, activation='relu'))\n",
    "final_model.add(Dropout(0.40))\n",
    "final_model.add(Dense(64, activation='relu'))\n",
    "\n",
    "\n",
    "# Adding the final dense layer (only 1 as it is a binary class)\n",
    "final_model.add(Dense(26, activation='sigmoid'))\n",
    "\n",
    "# Displaying the model summary\n",
    "final_model.summary()"
   ]
  },
  {
   "cell_type": "code",
   "execution_count": 25,
   "metadata": {},
   "outputs": [],
   "source": [
    "import tensorflow as tf\n",
    "# tf.keras.losses.BinaryCrossentropy\n",
    "\n",
    "final_model.compile(\n",
    "    optimizer='adam',\n",
    "    loss = 'categorical_crossentropy',\n",
    "    metrics=['accuracy']\n",
    ")"
   ]
  },
  {
   "cell_type": "code",
   "execution_count": 26,
   "metadata": {},
   "outputs": [
    {
     "name": "stdout",
     "output_type": "stream",
     "text": [
      "Found 1820 images belonging to 26 classes.\n",
      "Found 780 images belonging to 26 classes.\n"
     ]
    }
   ],
   "source": [
    "from keras.preprocessing.image import ImageDataGenerator\n",
    "\n",
    "train_datagen = ImageDataGenerator(\n",
    "        rescale=1./255,\n",
    "        zoom_range=0.5,)\n",
    "        # width_shift_range=0.1,\n",
    "        # height_shift_range=0.1,)\n",
    "\n",
    "test_datagen = ImageDataGenerator(\n",
    "        rescale=1./255)\n",
    "\n",
    "sz   = 224\n",
    "batch_size = 100\n",
    "\n",
    "data_dir_tr = os.path.join(PATH, 'train')\n",
    "data_dir_ts = os.path.join(PATH, 'test')\n",
    "\n",
    "\n",
    "training_set = train_datagen.flow_from_directory(data_dir_tr,\n",
    "                                                 target_size=(sz, sz),\n",
    "                                                 batch_size=18,\n",
    "                                                 color_mode='rgb',\n",
    "                                                 class_mode='categorical')\n",
    "\n",
    "test_set = test_datagen.flow_from_directory(data_dir_ts,\n",
    "                                            target_size=(sz , sz),\n",
    "                                            batch_size=10,\n",
    "                                            color_mode='rgb',\n",
    "                                            class_mode='categorical') \n",
    "\n"
   ]
  },
  {
   "cell_type": "code",
   "execution_count": 32,
   "metadata": {},
   "outputs": [
    {
     "name": "stdout",
     "output_type": "stream",
     "text": [
      "label -  (18, 26)\n",
      "image -  (18, 224, 224, 3)\n",
      "(224, 224, 3)\n"
     ]
    },
    {
     "data": {
      "text/plain": [
       "[]"
      ]
     },
     "execution_count": 32,
     "metadata": {},
     "output_type": "execute_result"
    },
    {
     "data": {
      "image/png": "[encoded data removed]",
      "text/plain": [
       "<Figure size 216x216 with 1 Axes>"
      ]
     },
     "metadata": {
      "needs_background": "light"
     },
     "output_type": "display_data"
    }
   ],
   "source": [
    "import numpy as np\n",
    "image, label = training_set.next()\n",
    "print('label - ',np.shape(label))\n",
    "print('image - ',np.shape(image))\n",
    "from matplotlib import pyplot as plt\n",
    "img = image[0]\n",
    "\n",
    "fig, ax = plt.subplots(nrows=1, ncols=1, figsize=(3,3))\n",
    "\n",
    "print(np.shape(img))\n",
    "ax.imshow(img)\n",
    "ax.plot()\n"
   ]
  },
  {
   "cell_type": "code",
   "execution_count": 34,
   "metadata": {},
   "outputs": [
    {
     "data": {
      "text/plain": [
       "'d'"
      ]
     },
     "execution_count": 34,
     "metadata": {},
     "output_type": "execute_result"
    }
   ],
   "source": [
    "letters= ['a', 'b', 'c', 'd', 'e', 'f', 'g', 'h', 'i', 'j', 'k', 'l', 'm', 'n', 'o', 'p', 'q', 'r', 's', 't', 'u', 'v', 'w', 'x', 'y', 'z']\n",
    "letters[np.argmax(label[0])]"
   ]
  },
  {
   "cell_type": "code",
   "execution_count": 30,
   "metadata": {},
   "outputs": [
    {
     "name": "stdout",
     "output_type": "stream",
     "text": [
      "Epoch 1/25\n",
      "100/100 [==============================] - 42s 414ms/step - loss: 1.7293 - accuracy: 0.4400 - val_loss: 1.0898 - val_accuracy: 0.6532\n",
      "Epoch 2/25\n",
      "100/100 [==============================] - 41s 411ms/step - loss: 1.6270 - accuracy: 0.4669 - val_loss: 0.9746 - val_accuracy: 0.6948\n",
      "Epoch 3/25\n",
      "100/100 [==============================] - 42s 424ms/step - loss: 1.7155 - accuracy: 0.4624 - val_loss: 1.2169 - val_accuracy: 0.7156\n",
      "Epoch 4/25\n",
      "100/100 [==============================] - 43s 433ms/step - loss: 1.6761 - accuracy: 0.4619 - val_loss: 0.7245 - val_accuracy: 0.8156\n",
      "Epoch 5/25\n",
      "100/100 [==============================] - 41s 407ms/step - loss: 1.5858 - accuracy: 0.5056 - val_loss: 0.7199 - val_accuracy: 0.7870\n",
      "Epoch 6/25\n",
      "100/100 [==============================] - 41s 409ms/step - loss: 1.6824 - accuracy: 0.4658 - val_loss: 0.9453 - val_accuracy: 0.7052\n",
      "Epoch 7/25\n",
      "100/100 [==============================] - 44s 444ms/step - loss: 1.6398 - accuracy: 0.4826 - val_loss: 0.6451 - val_accuracy: 0.8494\n",
      "Epoch 8/25\n",
      "100/100 [==============================] - 50s 496ms/step - loss: 1.6073 - accuracy: 0.5017 - val_loss: 0.9076 - val_accuracy: 0.7390\n",
      "Epoch 9/25\n",
      "100/100 [==============================] - 77s 767ms/step - loss: 1.5874 - accuracy: 0.4781 - val_loss: 0.8445 - val_accuracy: 0.7727\n",
      "Epoch 10/25\n",
      "100/100 [==============================] - 77s 768ms/step - loss: 1.6568 - accuracy: 0.4692 - val_loss: 0.8207 - val_accuracy: 0.7883\n",
      "Epoch 11/25\n",
      "100/100 [==============================] - 78s 777ms/step - loss: 1.6595 - accuracy: 0.4910 - val_loss: 0.8000 - val_accuracy: 0.7688\n",
      "Epoch 12/25\n",
      "100/100 [==============================] - 78s 780ms/step - loss: 1.6691 - accuracy: 0.4703 - val_loss: 0.8629 - val_accuracy: 0.7455\n",
      "Epoch 13/25\n",
      "100/100 [==============================] - 77s 770ms/step - loss: 1.6206 - accuracy: 0.4809 - val_loss: 0.9109 - val_accuracy: 0.7429\n",
      "Epoch 14/25\n",
      "100/100 [==============================] - 76s 760ms/step - loss: 1.6585 - accuracy: 0.4776 - val_loss: 0.9494 - val_accuracy: 0.7065\n",
      "Epoch 15/25\n",
      "100/100 [==============================] - 75s 751ms/step - loss: 1.6227 - accuracy: 0.4714 - val_loss: 1.2167 - val_accuracy: 0.6442\n",
      "Epoch 16/25\n",
      "100/100 [==============================] - 76s 760ms/step - loss: 1.5789 - accuracy: 0.4927 - val_loss: 0.8866 - val_accuracy: 0.7468\n",
      "Epoch 17/25\n",
      "100/100 [==============================] - 78s 780ms/step - loss: 1.5910 - accuracy: 0.4821 - val_loss: 0.9963 - val_accuracy: 0.6636\n",
      "Epoch 18/25\n",
      "100/100 [==============================] - 77s 769ms/step - loss: 1.6726 - accuracy: 0.4832 - val_loss: 0.8455 - val_accuracy: 0.7312\n",
      "Epoch 19/25\n",
      "100/100 [==============================] - 84s 839ms/step - loss: 1.6518 - accuracy: 0.4737 - val_loss: 1.1339 - val_accuracy: 0.6312\n",
      "Epoch 20/25\n",
      "100/100 [==============================] - 83s 826ms/step - loss: 1.7939 - accuracy: 0.4473 - val_loss: 1.0183 - val_accuracy: 0.6948\n",
      "Epoch 21/25\n",
      "100/100 [==============================] - 83s 832ms/step - loss: 1.6628 - accuracy: 0.4793 - val_loss: 0.8909 - val_accuracy: 0.7429\n",
      "Epoch 22/25\n",
      "100/100 [==============================] - 77s 769ms/step - loss: 1.5871 - accuracy: 0.4793 - val_loss: 0.8735 - val_accuracy: 0.7481\n",
      "Epoch 23/25\n",
      "100/100 [==============================] - 81s 806ms/step - loss: 1.5827 - accuracy: 0.4843 - val_loss: 0.9302 - val_accuracy: 0.7221\n",
      "Epoch 24/25\n",
      "100/100 [==============================] - 79s 788ms/step - loss: 1.5705 - accuracy: 0.4860 - val_loss: 0.8432 - val_accuracy: 0.7416\n",
      "Epoch 25/25\n",
      "100/100 [==============================] - 77s 774ms/step - loss: 1.6094 - accuracy: 0.4742 - val_loss: 0.8675 - val_accuracy: 0.7481\n"
     ]
    },
    {
     "data": {
      "text/plain": [
       "<keras.callbacks.History at 0x1d785aecf40>"
      ]
     },
     "execution_count": 30,
     "metadata": {},
     "output_type": "execute_result"
    }
   ],
   "source": [
    "final_model.fit(\n",
    "                training_set,\n",
    "                steps_per_epoch= 100, # No of images in training set\n",
    "                epochs=25,\n",
    "                validation_data=test_set,\n",
    "                validation_steps=77)# No of images in test set"
   ]
  },
  {
   "cell_type": "code",
   "execution_count": 35,
   "metadata": {},
   "outputs": [
    {
     "name": "stdout",
     "output_type": "stream",
     "text": [
      "d\n"
     ]
    }
   ],
   "source": [
    "index = np.argmax(final_model.predict(np.array([img])))\n",
    "print(letters[index])"
   ]
  },
  {
   "cell_type": "code",
   "execution_count": 36,
   "metadata": {},
   "outputs": [],
   "source": [
    "final_model.save(os.path.join('Models-final', name + '_Model.h5'))"
   ]
  }
 ],
 "metadata": {
  "interpreter": {
   "hash": "17581df2ce934e6e2a346c73ba9272ff860089df41884dbd1cdabd276d0f0ff3"
  },
  "kernelspec": {
   "display_name": "Python 3.9.1 ('venv': venv)",
   "language": "python",
   "name": "python3"
  },
  "language_info": {
   "codemirror_mode": {
    "name": "ipython",
    "version": 3
   },
   "file_extension": ".py",
   "mimetype": "text/x-python",
   "name": "python",
   "nbconvert_exporter": "python",
   "pygments_lexer": "ipython3",
   "version": "3.9.1"
  },
  "orig_nbformat": 4
 },
 "nbformat": 4,
 "nbformat_minor": 2
}
