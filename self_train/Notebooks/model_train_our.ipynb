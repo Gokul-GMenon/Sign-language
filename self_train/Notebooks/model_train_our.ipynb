{
 "cells": [
  {
   "cell_type": "code",
   "execution_count": 1,
   "metadata": {},
   "outputs": [],
   "source": [
    "import cv2 as cv\n",
    "import os\n",
    "\n",
    "name = 'gokul'"
   ]
  },
  {
   "cell_type": "code",
   "execution_count": 2,
   "metadata": {},
   "outputs": [
    {
     "name": "stdout",
     "output_type": "stream",
     "text": [
      "f:\\Works\\Sign language\\Sign-language\n"
     ]
    }
   ],
   "source": [
    "cd .."
   ]
  },
  {
   "cell_type": "code",
   "execution_count": 3,
   "metadata": {},
   "outputs": [],
   "source": [
    "# Path of the file containing the images\n",
    "PATH = os.path.join('training_images', name)"
   ]
  },
  {
   "cell_type": "code",
   "execution_count": 4,
   "metadata": {},
   "outputs": [],
   "source": [
    "# Importing the model and setting all the current layers as non-trainable\n",
    "\n",
    "from keras.models import model_from_json\n",
    "from keras import Sequential\n",
    "\n",
    "model = ''\n",
    "\n",
    "with open(\"model-bw-2-json.json\") as json_file:\n",
    "    model = model_from_json(json_file.read())\n",
    "    model.load_weights(\"model-bw-2-weights.h5\")\n",
    "\n",
    "final_model = Sequential()\n",
    "\n",
    "i=0\n",
    "for layer in model.layers[:4]:\n",
    "    final_model.add(layer) \n",
    "    \n",
    "for layer in final_model.layers:\n",
    "    layer.trainable = False\n",
    "   "
   ]
  },
  {
   "cell_type": "code",
   "execution_count": 5,
   "metadata": {},
   "outputs": [
    {
     "name": "stdout",
     "output_type": "stream",
     "text": [
      "Model: \"sequential\"\n",
      "_________________________________________________________________\n",
      " Layer (type)                Output Shape              Param #   \n",
      "=================================================================\n",
      " conv2d (Conv2D)             (None, 126, 126, 32)      320       \n",
      "                                                                 \n",
      " max_pooling2d (MaxPooling2D  (None, 63, 63, 32)       0         \n",
      " )                                                               \n",
      "                                                                 \n",
      " conv2d_1 (Conv2D)           (None, 61, 61, 32)        9248      \n",
      "                                                                 \n",
      " max_pooling2d_1 (MaxPooling  (None, 30, 30, 32)       0         \n",
      " 2D)                                                             \n",
      "                                                                 \n",
      "=================================================================\n",
      "Total params: 9,568\n",
      "Trainable params: 0\n",
      "Non-trainable params: 9,568\n",
      "_________________________________________________________________\n"
     ]
    }
   ],
   "source": [
    "final_model.summary()"
   ]
  },
  {
   "cell_type": "code",
   "execution_count": 6,
   "metadata": {},
   "outputs": [
    {
     "name": "stdout",
     "output_type": "stream",
     "text": [
      "Model: \"sequential_1\"\n",
      "_________________________________________________________________\n",
      " Layer (type)                Output Shape              Param #   \n",
      "=================================================================\n",
      " sequential (Sequential)     (None, 30, 30, 32)        9568      \n",
      "                                                                 \n",
      " conv2d (Conv2D)             (None, 28, 28, 32)        9248      \n",
      "                                                                 \n",
      " max_pooling2d (MaxPooling2D  (None, 14, 14, 32)       0         \n",
      " )                                                               \n",
      "                                                                 \n",
      " conv2d_1 (Conv2D)           (None, 12, 12, 32)        9248      \n",
      "                                                                 \n",
      " max_pooling2d_1 (MaxPooling  (None, 6, 6, 32)         0         \n",
      " 2D)                                                             \n",
      "                                                                 \n",
      " flatten (Flatten)           (None, 1152)              0         \n",
      "                                                                 \n",
      " dense (Dense)               (None, 128)               147584    \n",
      "                                                                 \n",
      " dropout (Dropout)           (None, 128)               0         \n",
      "                                                                 \n",
      " dense_1 (Dense)             (None, 96)                12384     \n",
      "                                                                 \n",
      " dropout_1 (Dropout)         (None, 96)                0         \n",
      "                                                                 \n",
      " dense_2 (Dense)             (None, 64)                6208      \n",
      "                                                                 \n",
      " dense_3 (Dense)             (None, 27)                1755      \n",
      "                                                                 \n",
      "=================================================================\n",
      "Total params: 195,995\n",
      "Trainable params: 186,427\n",
      "Non-trainable params: 9,568\n",
      "_________________________________________________________________\n"
     ]
    }
   ],
   "source": [
    "import keras\n",
    "from keras.layers import Dense, Dropout, GlobalAveragePooling2D, Flatten, Convolution2D, MaxPooling2D\n",
    "\n",
    "final_model = keras.Sequential(final_model)\n",
    "\n",
    "# # Second convolution layer and pooling\n",
    "# final_model.add(Convolution2D(32, (3, 3), activation='relu'))\n",
    "# # input_shape is going to be the pooled feature maps from the previous convolution layer\n",
    "# final_model.add(MaxPooling2D(pool_size=(2, 2)))\n",
    "\n",
    "# Second convolution layer and pooling\n",
    "final_model.add(Convolution2D(32, (3, 3), activation='relu'))\n",
    "# input_shape is going to be the pooled feature maps from the previous convolution layer\n",
    "final_model.add(MaxPooling2D(pool_size=(2, 2)))\n",
    "\n",
    "# Third convolution layer and pooling\n",
    "final_model.add(Convolution2D(32, (3, 3), activation='relu'))\n",
    "# input_shape is going to be the pooled feature maps from the previous convolution layer\n",
    "final_model.add(MaxPooling2D(pool_size=(2, 2)))\n",
    "\n",
    "\n",
    "# Flattening the layers\n",
    "final_model.add(Flatten())\n",
    "\n",
    "# Adding a fully connected layer\n",
    "final_model.add(Dense(units=128, activation='relu'))\n",
    "final_model.add(Dropout(0.40))\n",
    "final_model.add(Dense(96, activation='relu'))\n",
    "final_model.add(Dropout(0.40))\n",
    "final_model.add(Dense(64, activation='relu'))\n",
    "\n",
    "\n",
    "# Adding the final dense layer (only 1 as it is a binary class)\n",
    "final_model.add(Dense(27, activation='sigmoid'))\n",
    "\n",
    "# Displaying the model summary\n",
    "final_model.summary()"
   ]
  },
  {
   "cell_type": "code",
   "execution_count": 7,
   "metadata": {},
   "outputs": [],
   "source": [
    "import tensorflow as tf\n",
    "# tf.keras.losses.BinaryCrossentropy\n",
    "\n",
    "final_model.compile(\n",
    "    optimizer='adam',\n",
    "    loss = 'categorical_crossentropy',\n",
    "    metrics=['accuracy']\n",
    ")"
   ]
  },
  {
   "cell_type": "code",
   "execution_count": 8,
   "metadata": {},
   "outputs": [
    {
     "name": "stdout",
     "output_type": "stream",
     "text": [
      "Found 1891 images belonging to 27 classes.\n",
      "Found 809 images belonging to 27 classes.\n"
     ]
    }
   ],
   "source": [
    "from keras.preprocessing.image import ImageDataGenerator\n",
    "\n",
    "train_datagen = ImageDataGenerator(\n",
    "        rescale=1./255,\n",
    "        zoom_range=0.5,\n",
    "        width_shift_range=0.1,\n",
    "        height_shift_range=0.1,)\n",
    "\n",
    "test_datagen = ImageDataGenerator(\n",
    "        rescale=1./255)\n",
    "\n",
    "sz   = 128\n",
    "batch_size = 100\n",
    "\n",
    "data_dir_tr = os.path.join(PATH, 'train')\n",
    "data_dir_ts = os.path.join(PATH, 'test')\n",
    "\n",
    "\n",
    "training_set = train_datagen.flow_from_directory(data_dir_tr,\n",
    "                                                 target_size=(sz, sz),\n",
    "                                                 batch_size=18,\n",
    "                                                 color_mode='grayscale',\n",
    "                                                 class_mode='categorical')\n",
    "\n",
    "test_set = test_datagen.flow_from_directory(data_dir_ts,\n",
    "                                            target_size=(sz , sz),\n",
    "                                            batch_size=10,\n",
    "                                            color_mode='grayscale',\n",
    "                                            class_mode='categorical') \n",
    "\n"
   ]
  },
  {
   "cell_type": "code",
   "execution_count": 9,
   "metadata": {},
   "outputs": [
    {
     "name": "stdout",
     "output_type": "stream",
     "text": [
      "label -  (18, 27)\n",
      "image -  (18, 128, 128, 1)\n",
      "(128, 128, 1)\n"
     ]
    },
    {
     "data": {
      "text/plain": [
       "[]"
      ]
     },
     "execution_count": 9,
     "metadata": {},
     "output_type": "execute_result"
    },
    {
     "data": {
      "image/png": "[encoded data removed]",
      "text/plain": [
       "<Figure size 216x216 with 1 Axes>"
      ]
     },
     "metadata": {
      "needs_background": "light"
     },
     "output_type": "display_data"
    }
   ],
   "source": [
    "import numpy as np\n",
    "image, label = training_set.next()\n",
    "print('label - ',np.shape(label))\n",
    "print('image - ',np.shape(image))\n",
    "from matplotlib import pyplot as plt\n",
    "img = image[0]\n",
    "\n",
    "fig, ax = plt.subplots(nrows=1, ncols=1, figsize=(3,3))\n",
    "\n",
    "print(np.shape(img))\n",
    "ax.imshow(img)\n",
    "ax.plot()\n"
   ]
  },
  {
   "cell_type": "code",
   "execution_count": 10,
   "metadata": {},
   "outputs": [
    {
     "data": {
      "text/plain": [
       "'v'"
      ]
     },
     "execution_count": 10,
     "metadata": {},
     "output_type": "execute_result"
    }
   ],
   "source": [
    "letters= ['0', 'a', 'b', 'c', 'd', 'e', 'f', 'g', 'h', 'i', 'j', 'k', 'l', 'm', 'n', 'o', 'p', 'q', 'r', 's', 't', 'u', 'v', 'w', 'x', 'y', 'z']\n",
    "letters[np.argmax(label[0])]"
   ]
  },
  {
   "cell_type": "code",
   "execution_count": 11,
   "metadata": {},
   "outputs": [
    {
     "name": "stdout",
     "output_type": "stream",
     "text": [
      "Epoch 1/25\n",
      "100/100 [==============================] - 8s 72ms/step - loss: 3.2852 - accuracy: 0.0387 - val_loss: 3.1616 - val_accuracy: 0.0390\n",
      "Epoch 2/25\n",
      "100/100 [==============================] - 7s 70ms/step - loss: 2.9718 - accuracy: 0.1150 - val_loss: 2.2401 - val_accuracy: 0.3325\n",
      "Epoch 3/25\n",
      "100/100 [==============================] - 8s 78ms/step - loss: 2.4543 - accuracy: 0.2457 - val_loss: 1.6724 - val_accuracy: 0.4740\n",
      "Epoch 4/25\n",
      "100/100 [==============================] - 6s 62ms/step - loss: 2.0901 - accuracy: 0.3432 - val_loss: 1.4733 - val_accuracy: 0.5325\n",
      "Epoch 5/25\n",
      "100/100 [==============================] - 6s 58ms/step - loss: 1.7804 - accuracy: 0.4172 - val_loss: 1.1280 - val_accuracy: 0.6390\n",
      "Epoch 6/25\n",
      "100/100 [==============================] - 6s 57ms/step - loss: 1.5362 - accuracy: 0.4756 - val_loss: 0.9193 - val_accuracy: 0.6351\n",
      "Epoch 7/25\n",
      "100/100 [==============================] - 6s 59ms/step - loss: 1.4273 - accuracy: 0.5003 - val_loss: 0.7828 - val_accuracy: 0.7078\n",
      "Epoch 8/25\n",
      "100/100 [==============================] - 6s 58ms/step - loss: 1.2765 - accuracy: 0.5569 - val_loss: 0.7680 - val_accuracy: 0.7519\n",
      "Epoch 9/25\n",
      "100/100 [==============================] - 6s 60ms/step - loss: 1.1412 - accuracy: 0.6018 - val_loss: 0.7176 - val_accuracy: 0.7468\n",
      "Epoch 10/25\n",
      "100/100 [==============================] - 6s 59ms/step - loss: 1.0235 - accuracy: 0.6411 - val_loss: 0.9117 - val_accuracy: 0.7403\n",
      "Epoch 11/25\n",
      "100/100 [==============================] - 6s 61ms/step - loss: 0.9959 - accuracy: 0.6596 - val_loss: 0.7908 - val_accuracy: 0.7870\n",
      "Epoch 12/25\n",
      "100/100 [==============================] - 6s 60ms/step - loss: 0.8924 - accuracy: 0.6842 - val_loss: 0.6327 - val_accuracy: 0.8130\n",
      "Epoch 13/25\n",
      "100/100 [==============================] - 6s 61ms/step - loss: 0.8186 - accuracy: 0.7168 - val_loss: 0.6639 - val_accuracy: 0.7766\n",
      "Epoch 14/25\n",
      "100/100 [==============================] - 6s 64ms/step - loss: 0.7759 - accuracy: 0.7358 - val_loss: 0.6962 - val_accuracy: 0.7857\n",
      "Epoch 15/25\n",
      "100/100 [==============================] - 6s 63ms/step - loss: 0.7738 - accuracy: 0.7246 - val_loss: 0.8564 - val_accuracy: 0.7688\n",
      "Epoch 16/25\n",
      "100/100 [==============================] - 6s 62ms/step - loss: 0.7270 - accuracy: 0.7454 - val_loss: 0.7216 - val_accuracy: 0.8013\n",
      "Epoch 17/25\n",
      "100/100 [==============================] - 6s 63ms/step - loss: 0.6437 - accuracy: 0.7796 - val_loss: 0.7331 - val_accuracy: 0.8013\n",
      "Epoch 18/25\n",
      "100/100 [==============================] - 6s 61ms/step - loss: 0.6662 - accuracy: 0.7684 - val_loss: 0.6364 - val_accuracy: 0.8351\n",
      "Epoch 19/25\n",
      "100/100 [==============================] - 6s 63ms/step - loss: 0.6142 - accuracy: 0.7902 - val_loss: 0.8084 - val_accuracy: 0.8013\n",
      "Epoch 20/25\n",
      "100/100 [==============================] - 6s 62ms/step - loss: 0.6173 - accuracy: 0.7796 - val_loss: 0.7278 - val_accuracy: 0.8013\n",
      "Epoch 21/25\n",
      "100/100 [==============================] - 6s 64ms/step - loss: 0.5532 - accuracy: 0.8104 - val_loss: 0.6965 - val_accuracy: 0.8182\n",
      "Epoch 22/25\n",
      "100/100 [==============================] - 6s 62ms/step - loss: 0.5767 - accuracy: 0.8003 - val_loss: 0.6566 - val_accuracy: 0.8416\n",
      "Epoch 23/25\n",
      "100/100 [==============================] - 6s 63ms/step - loss: 0.5582 - accuracy: 0.8166 - val_loss: 0.8004 - val_accuracy: 0.8091\n",
      "Epoch 24/25\n",
      "100/100 [==============================] - 6s 62ms/step - loss: 0.5298 - accuracy: 0.8222 - val_loss: 0.6597 - val_accuracy: 0.8377\n",
      "Epoch 25/25\n",
      "100/100 [==============================] - 6s 62ms/step - loss: 0.4555 - accuracy: 0.8441 - val_loss: 0.7914 - val_accuracy: 0.8104\n"
     ]
    },
    {
     "data": {
      "text/plain": [
       "<keras.callbacks.History at 0x23ecb595af0>"
      ]
     },
     "execution_count": 11,
     "metadata": {},
     "output_type": "execute_result"
    }
   ],
   "source": [
    "final_model.fit(\n",
    "                training_set,\n",
    "                steps_per_epoch= 100, # No of images in training set\n",
    "                epochs=25,\n",
    "                validation_data=test_set,\n",
    "                validation_steps=77)# No of images in test set"
   ]
  },
  {
   "cell_type": "code",
   "execution_count": 12,
   "metadata": {},
   "outputs": [
    {
     "name": "stdout",
     "output_type": "stream",
     "text": [
      "v\n",
      "[[3.5968423e-04 4.2377889e-02 2.4666786e-03 1.3241781e-08 1.6335802e-06\n",
      "  3.0931950e-02 3.3075867e-05 1.4524519e-01 7.1077645e-01 4.4734478e-03\n",
      "  9.2919540e-01 9.9570596e-01 1.2528685e-01 1.6596103e-01 3.0280346e-01\n",
      "  2.8805707e-07 1.8231881e-06 1.9928813e-04 8.2061279e-01 1.0332972e-02\n",
      "  1.0352876e-06 9.0265304e-01 9.9974251e-01 9.9899232e-01 3.0034682e-01\n",
      "  1.8553406e-02 4.2547882e-03]]\n"
     ]
    }
   ],
   "source": [
    "index = np.argmax(final_model.predict(np.array([img])))\n",
    "print(letters[index])\n",
    "print(final_model.predict(np.array([img])))"
   ]
  },
  {
   "cell_type": "code",
   "execution_count": 13,
   "metadata": {},
   "outputs": [
    {
     "data": {
      "text/plain": [
       "'f:\\\\Works\\\\Sign language\\\\Sign-language'"
      ]
     },
     "execution_count": 13,
     "metadata": {},
     "output_type": "execute_result"
    }
   ],
   "source": [
    "pwd"
   ]
  },
  {
   "cell_type": "code",
   "execution_count": 14,
   "metadata": {},
   "outputs": [],
   "source": [
    "final_model.save(os.path.join('Models-final-ours', name + '_Model.h5'))"
   ]
  }
 ],
 "metadata": {
  "interpreter": {
   "hash": "17581df2ce934e6e2a346c73ba9272ff860089df41884dbd1cdabd276d0f0ff3"
  },
  "kernelspec": {
   "display_name": "Python 3.9.1 ('venv': venv)",
   "language": "python",
   "name": "python3"
  },
  "language_info": {
   "codemirror_mode": {
    "name": "ipython",
    "version": 3
   },
   "file_extension": ".py",
   "mimetype": "text/x-python",
   "name": "python",
   "nbconvert_exporter": "python",
   "pygments_lexer": "ipython3",
   "version": "3.9.1"
  },
  "orig_nbformat": 4
 },
 "nbformat": 4,
 "nbformat_minor": 2
}
